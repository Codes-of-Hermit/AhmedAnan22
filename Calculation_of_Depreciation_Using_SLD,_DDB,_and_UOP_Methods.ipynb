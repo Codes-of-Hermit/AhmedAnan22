{
  "nbformat": 4,
  "nbformat_minor": 0,
  "metadata": {
    "colab": {
      "provenance": [],
      "authorship_tag": "ABX9TyNC51L4+2XgFjWTYGo98V5c",
      "include_colab_link": true
    },
    "kernelspec": {
      "name": "python3",
      "display_name": "Python 3"
    },
    "language_info": {
      "name": "python"
    }
  },
  "cells": [
    {
      "cell_type": "markdown",
      "metadata": {
        "id": "view-in-github",
        "colab_type": "text"
      },
      "source": [
        "<a href=\"https://colab.research.google.com/github/Codes-of-Hermit/AhmedAnan22/blob/main/Calculation_of_Depreciation_Using_SLD%2C_DDB%2C_and_UOP_Methods.ipynb\" target=\"_parent\"><img src=\"https://colab.research.google.com/assets/colab-badge.svg\" alt=\"Open In Colab\"/></a>"
      ]
    },
    {
      "cell_type": "code",
      "execution_count": null,
      "metadata": {
        "colab": {
          "base_uri": "https://localhost:8080/"
        },
        "id": "BQRodEdbAPsS",
        "outputId": "9f667199-783f-467b-b4e9-b3ee9a71b58a"
      },
      "outputs": [
        {
          "output_type": "execute_result",
          "data": {
            "text/plain": [
              "(20000.0,\n",
              " [40000.0, 24000.0, 14400.0, 8640.0, 5184.0],\n",
              " [28800, 30240, 24360, 15000])"
            ]
          },
          "metadata": {},
          "execution_count": 1
        }
      ],
      "source": [
        "# Input data\n",
        "cost = 100000\n",
        "residual_value = 5000\n",
        "useful_life = 5\n",
        "units_of_production = [240, 252, 203, 125]\n",
        "total_units = sum(units_of_production)\n",
        "cost_per_unit = 120\n",
        "\n",
        "# SLD (Straight-Line Depreciation) ignoring residual value\n",
        "sld = cost / useful_life\n",
        "\n",
        "# DDB (Double Declining Balance Depreciation) ignoring residual value\n",
        "ddb = []\n",
        "book_value = cost\n",
        "rate = 2 / useful_life\n",
        "for year in range(1, useful_life + 1):\n",
        "    depreciation = book_value * rate\n",
        "    book_value -= depreciation\n",
        "    ddb.append(depreciation)\n",
        "\n",
        "# UOP (Units of Production Depreciation)\n",
        "uop_depreciation = []\n",
        "for units in units_of_production:\n",
        "    uop_depreciation.append(units * cost_per_unit)\n",
        "\n",
        "# Results\n",
        "sld, ddb, uop_depreciation\n"
      ]
    }
  ]
}