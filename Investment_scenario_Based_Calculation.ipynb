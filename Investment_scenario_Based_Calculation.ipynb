{
  "nbformat": 4,
  "nbformat_minor": 0,
  "metadata": {
    "colab": {
      "provenance": [],
      "authorship_tag": "ABX9TyMPoObeX1yhwXj2TrpqDvTV",
      "include_colab_link": true
    },
    "kernelspec": {
      "name": "python3",
      "display_name": "Python 3"
    },
    "language_info": {
      "name": "python"
    }
  },
  "cells": [
    {
      "cell_type": "markdown",
      "metadata": {
        "id": "view-in-github",
        "colab_type": "text"
      },
      "source": [
        "<a href=\"https://colab.research.google.com/github/Codes-of-Hermit/AhmedAnan22/blob/main/Investment_scenario_Based_Calculation.ipynb\" target=\"_parent\"><img src=\"https://colab.research.google.com/assets/colab-badge.svg\" alt=\"Open In Colab\"/></a>"
      ]
    },
    {
      "cell_type": "code",
      "execution_count": 1,
      "metadata": {
        "colab": {
          "base_uri": "https://localhost:8080/"
        },
        "id": "Hr06Yl0q9ovX",
        "outputId": "bfa9d7ba-150d-4ed2-e41c-947170fe3ec2"
      },
      "outputs": [
        {
          "output_type": "execute_result",
          "data": {
            "text/plain": [
              "(array([14.85, 14.85, 14.85, 14.85, 14.85, 14.85]),\n",
              " 14.014058650057416,\n",
              " 116.7838220838118,\n",
              " 15.563340533254074,\n",
              " 103.75560355502716)"
            ]
          },
          "metadata": {},
          "execution_count": 1
        }
      ],
      "source": [
        "import numpy as np\n",
        "\n",
        "# Input data\n",
        "face_value = 110\n",
        "coupon_rate = 0.135\n",
        "coupon_payment = face_value * coupon_rate\n",
        "years = 6\n",
        "\n",
        "# Scenario 1:Input Investor's expected required return\n",
        "required_return_1 = 0.12\n",
        "pv_factor_1 = np.array([(1 / (1 + required_return_1)**t) for t in range(1, years + 1)])\n",
        "pv_coupons_1 = sum(coupon_payment * pv_factor_1)\n",
        "pv_face_value_1 = face_value / (1 + required_return_1)**years\n",
        "bond_value_1 = pv_coupons_1 + pv_face_value_1\n",
        "\n",
        "# Scenario 2: Input Investor's expected required return\n",
        "required_return_2 = 0.15\n",
        "pv_factor_2 = np.array([(1 / (1 + required_return_2)**t) for t in range(1, years + 1)])\n",
        "pv_coupons_2 = sum(coupon_payment * pv_factor_2)\n",
        "pv_face_value_2 = face_value / (1 + required_return_2)**years\n",
        "bond_value_2 = pv_coupons_2 + pv_face_value_2\n",
        "\n",
        "# Interest Payments (same for both scenarios)\n",
        "interest_payments = np.full(years, coupon_payment)\n",
        "\n",
        "# Interest Expense and Reported Bond Value calculations\n",
        "# Scenario 1\n",
        "interest_expense_1 = bond_value_1 * required_return_1\n",
        "reported_bond_value_1 = bond_value_1\n",
        "\n",
        "# Scenario 2\n",
        "interest_expense_2 = bond_value_2 * required_return_2\n",
        "reported_bond_value_2 = bond_value_2\n",
        "\n",
        "interest_payments, interest_expense_1, reported_bond_value_1, interest_expense_2, reported_bond_value_2\n"
      ]
    }
  ]
}